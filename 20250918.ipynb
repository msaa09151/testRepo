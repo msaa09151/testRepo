{
 "cells": [
  {
   "cell_type": "markdown",
   "id": "f2d2ace3",
   "metadata": {},
   "source": [
    "2025-09-18"
   ]
  },
  {
   "cell_type": "code",
   "execution_count": 9,
   "id": "7439856b",
   "metadata": {},
   "outputs": [
    {
     "name": "stdout",
     "output_type": "stream",
     "text": [
      "Hello VSCode\n"
     ]
    }
   ],
   "source": [
    "print(\"Hello VSCode\")"
   ]
  },
  {
   "cell_type": "code",
   "execution_count": 10,
   "id": "a3074c00",
   "metadata": {},
   "outputs": [
    {
     "name": "stdout",
     "output_type": "stream",
     "text": [
      "안녕\n"
     ]
    }
   ],
   "source": [
    "print(\"안녕\")"
   ]
  },
  {
   "cell_type": "code",
   "execution_count": 11,
   "id": "e9bab4ae",
   "metadata": {},
   "outputs": [
    {
     "name": "stdout",
     "output_type": "stream",
     "text": [
      "최종 테스트\n"
     ]
    }
   ],
   "source": [
    "print(\"최종 테스트\")"
   ]
  }
 ],
 "metadata": {
  "kernelspec": {
   "display_name": "Python 3",
   "language": "python",
   "name": "python3"
  },
  "language_info": {
   "codemirror_mode": {
    "name": "ipython",
    "version": 3
   },
   "file_extension": ".py",
   "mimetype": "text/x-python",
   "name": "python",
   "nbconvert_exporter": "python",
   "pygments_lexer": "ipython3",
   "version": "3.11.8"
  }
 },
 "nbformat": 4,
 "nbformat_minor": 5
}
