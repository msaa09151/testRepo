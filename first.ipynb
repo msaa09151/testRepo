{
 "cells": [
  {
   "cell_type": "code",
   "execution_count": 1,
   "id": "96819c93",
   "metadata": {},
   "outputs": [
    {
     "name": "stdout",
     "output_type": "stream",
     "text": [
      "Hello World\n"
     ]
    }
   ],
   "source": [
    "print(\"Hello World\")"
   ]
  },
  {
   "cell_type": "code",
   "execution_count": 2,
   "id": "25c2bc56",
   "metadata": {},
   "outputs": [
    {
     "name": "stdout",
     "output_type": "stream",
     "text": [
      "안녕녀\n"
     ]
    }
   ],
   "source": [
    "print(\"안녕녀\")"
   ]
  },
  {
   "cell_type": "code",
   "execution_count": 1,
   "id": "9330b405",
   "metadata": {},
   "outputs": [
    {
     "name": "stdout",
     "output_type": "stream",
     "text": [
      "이제 점심이다아아아아아아\n"
     ]
    }
   ],
   "source": [
    "print('이제 점심이다아아아아아아')"
   ]
  },
  {
   "cell_type": "markdown",
   "id": "b4ac1d18",
   "metadata": {},
   "source": [
    "## 2025-09-18"
   ]
  },
  {
   "cell_type": "markdown",
   "id": "5debf836",
   "metadata": {},
   "source": [
    "나의 처음 코딩"
   ]
  },
  {
   "cell_type": "markdown",
   "id": "28ae8677",
   "metadata": {},
   "source": []
  }
 ],
 "metadata": {
  "kernelspec": {
   "display_name": "Python 3",
   "language": "python",
   "name": "python3"
  },
  "language_info": {
   "codemirror_mode": {
    "name": "ipython",
    "version": 3
   },
   "file_extension": ".py",
   "mimetype": "text/x-python",
   "name": "python",
   "nbconvert_exporter": "python",
   "pygments_lexer": "ipython3",
   "version": "3.12.1"
  }
 },
 "nbformat": 4,
 "nbformat_minor": 5
}
